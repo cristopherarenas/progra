{
 "cells": [
  {
   "cell_type": "markdown",
   "metadata": {
    "slideshow": {
     "slide_type": "slide"
    }
   },
   "source": [
    "<img src=\"images/utfsm.png\" alt=\"\" width=\"200px\" align=\"right\"/>\n",
    "\n",
    "<br/>\n",
    "\n",
    "# IWI131 Programación\n",
    "Diccionarios<br/>\n",
    "Cristopher Arenas<br/>\n",
    "cristopher.arenas@usm.cl<br/>\n",
    "\n",
    "<br/>\n",
    "Paralelo 204<br/>\n",
    "Campus San Joaquin"
   ]
  },
  {
   "cell_type": "markdown",
   "metadata": {
    "collapsed": true,
    "slideshow": {
     "slide_type": "slide"
    }
   },
   "source": [
    "## Diccionarios"
   ]
  },
  {
   "cell_type": "markdown",
   "metadata": {
    "slideshow": {
     "slide_type": "fragment"
    }
   },
   "source": [
    "Un diccionario es un tipo de datos que sirve para asociar pares de objetos. Se compone de:\n",
    "- **Llave**: tipo de dato inmutable y no repetido\n",
    "- **Valor**: puede tener cualquier tipo de dato. Solo accesible a través de su llave."
   ]
  },
  {
   "cell_type": "markdown",
   "metadata": {
    "slideshow": {
     "slide_type": "slide"
    }
   },
   "source": [
    "### Creación de Diccionarios\n",
    "Un diccionario vacío puede ser creado por medio de la función `dict()` y con el paréntesis de llave `{}`."
   ]
  },
  {
   "cell_type": "code",
   "execution_count": 1,
   "metadata": {
    "slideshow": {
     "slide_type": "fragment"
    }
   },
   "outputs": [
    {
     "name": "stdout",
     "output_type": "stream",
     "text": [
      "{}\n",
      "{}\n"
     ]
    }
   ],
   "source": [
    "dicc1 = {} \n",
    "dicc2 = dict()\n",
    "print dicc1\n",
    "print dicc2"
   ]
  },
  {
   "cell_type": "markdown",
   "metadata": {
    "slideshow": {
     "slide_type": "slide"
    }
   },
   "source": [
    "Un diccionario con elementos lista cada uno de ellos mencionando su llave y su valor:"
   ]
  },
  {
   "cell_type": "code",
   "execution_count": 2,
   "metadata": {
    "slideshow": {
     "slide_type": "fragment"
    }
   },
   "outputs": [
    {
     "name": "stdout",
     "output_type": "stream",
     "text": [
      "{'Pepito': 5552437, 'Jaimito': 5551428, 'Yayita': 5550012}\n"
     ]
    }
   ],
   "source": [
    "telefonos = {'Jaimito':5551428, 'Pepito':5552437, 'Yayita': 5550012}\n",
    "print telefonos"
   ]
  },
  {
   "cell_type": "markdown",
   "metadata": {
    "slideshow": {
     "slide_type": "slide"
    }
   },
   "source": [
    "No se puede usar cualquier tipo de dato como llave. Típicamente deben ser números, tuplas y strings (tipos de datos **no modificables**)."
   ]
  },
  {
   "cell_type": "code",
   "execution_count": 3,
   "metadata": {
    "slideshow": {
     "slide_type": "fragment"
    }
   },
   "outputs": [
    {
     "ename": "TypeError",
     "evalue": "unhashable type: 'list'",
     "output_type": "error",
     "traceback": [
      "\u001b[0;31m---------------------------------------------------------------------------\u001b[0m",
      "\u001b[0;31mTypeError\u001b[0m                                 Traceback (most recent call last)",
      "\u001b[0;32m<ipython-input-3-1ff203fa0c55>\u001b[0m in \u001b[0;36m<module>\u001b[0;34m()\u001b[0m\n\u001b[0;32m----> 1\u001b[0;31m \u001b[0md\u001b[0m \u001b[0;34m=\u001b[0m \u001b[0;34m{\u001b[0m\u001b[0;34m[\u001b[0m\u001b[0;36m1\u001b[0m\u001b[0;34m,\u001b[0m\u001b[0;36m2\u001b[0m\u001b[0;34m,\u001b[0m\u001b[0;36m3\u001b[0m\u001b[0;34m]\u001b[0m\u001b[0;34m:\u001b[0m\u001b[0;34m'hola'\u001b[0m\u001b[0;34m}\u001b[0m\u001b[0;34m\u001b[0m\u001b[0m\n\u001b[0m",
      "\u001b[0;31mTypeError\u001b[0m: unhashable type: 'list'"
     ]
    }
   ],
   "source": [
    "d = {[1,2,3]:'hola'}"
   ]
  },
  {
   "cell_type": "code",
   "execution_count": 4,
   "metadata": {
    "slideshow": {
     "slide_type": "fragment"
    }
   },
   "outputs": [
    {
     "name": "stdout",
     "output_type": "stream",
     "text": [
      "hola\n"
     ]
    }
   ],
   "source": [
    "d = {(1,2):'hola'}\n",
    "print d[(1,2)]"
   ]
  },
  {
   "cell_type": "markdown",
   "metadata": {
    "slideshow": {
     "slide_type": "slide"
    }
   },
   "source": [
    "### Acceder a elementos de un diccionario\n",
    "El valor asociado a la llave `k` del diccionario `d` se puede obtener como `d[k]`: "
   ]
  },
  {
   "cell_type": "code",
   "execution_count": 5,
   "metadata": {
    "slideshow": {
     "slide_type": "fragment"
    }
   },
   "outputs": [
    {
     "name": "stdout",
     "output_type": "stream",
     "text": [
      "azul\n"
     ]
    }
   ],
   "source": [
    "d = {'color':'azul','tamano':423}\n",
    "print d['color']"
   ]
  },
  {
   "cell_type": "code",
   "execution_count": 6,
   "metadata": {
    "slideshow": {
     "slide_type": "fragment"
    }
   },
   "outputs": [
    {
     "ename": "KeyError",
     "evalue": "'peso'",
     "output_type": "error",
     "traceback": [
      "\u001b[0;31m---------------------------------------------------------------------------\u001b[0m",
      "\u001b[0;31mKeyError\u001b[0m                                  Traceback (most recent call last)",
      "\u001b[0;32m<ipython-input-6-c962754dc259>\u001b[0m in \u001b[0;36m<module>\u001b[0;34m()\u001b[0m\n\u001b[0;32m----> 1\u001b[0;31m \u001b[0;32mprint\u001b[0m \u001b[0md\u001b[0m\u001b[0;34m[\u001b[0m\u001b[0;34m'peso'\u001b[0m\u001b[0;34m]\u001b[0m\u001b[0;34m\u001b[0m\u001b[0m\n\u001b[0m",
      "\u001b[0;31mKeyError\u001b[0m: 'peso'"
     ]
    }
   ],
   "source": [
    "print d['peso']"
   ]
  },
  {
   "cell_type": "markdown",
   "metadata": {
    "slideshow": {
     "slide_type": "slide"
    }
   },
   "source": [
    "### Agregar un valor\n",
    "Se debe hacer una asignación del diccionario con una **llave** igual a un **valor**. Si la llave ya existía en el diccionario, el valor es reemplazado."
   ]
  },
  {
   "cell_type": "code",
   "execution_count": 7,
   "metadata": {
    "slideshow": {
     "slide_type": "fragment"
    }
   },
   "outputs": [
    {
     "name": "stdout",
     "output_type": "stream",
     "text": [
      "Diccionario antes de agregar un valor\n",
      "{'color': 'azul', 'tamano': 423}\n",
      "Diccionario despues de agregar un valor\n",
      "{'color': 'azul', 'tamano': 423, 'peso': 31}\n"
     ]
    }
   ],
   "source": [
    "d = {'color':'azul','tamano':423}\n",
    "print \"Diccionario antes de agregar un valor\"\n",
    "print d\n",
    "d['peso'] = 31\n",
    "print \"Diccionario despues de agregar un valor\"\n",
    "print d"
   ]
  },
  {
   "cell_type": "code",
   "execution_count": 8,
   "metadata": {
    "slideshow": {
     "slide_type": "fragment"
    }
   },
   "outputs": [
    {
     "name": "stdout",
     "output_type": "stream",
     "text": [
      "Diccionario despues de cambiar un valor\n",
      "{'color': 'verde', 'tamano': 423, 'peso': 31}\n"
     ]
    }
   ],
   "source": [
    "d[\"color\"] = 'verde'\n",
    "print \"Diccionario despues de cambiar un valor\"\n",
    "print d"
   ]
  },
  {
   "cell_type": "markdown",
   "metadata": {
    "slideshow": {
     "slide_type": "slide"
    }
   },
   "source": [
    "### Cantidad de elementos\n",
    "La función `len` permite saber la cantidad de elementos del diccionario."
   ]
  },
  {
   "cell_type": "code",
   "execution_count": 9,
   "metadata": {
    "slideshow": {
     "slide_type": "fragment"
    }
   },
   "outputs": [
    {
     "name": "stdout",
     "output_type": "stream",
     "text": [
      "2\n"
     ]
    }
   ],
   "source": [
    "d = {'color':'azul','tamano':423}\n",
    "print len(d)"
   ]
  },
  {
   "cell_type": "markdown",
   "metadata": {
    "slideshow": {
     "slide_type": "slide"
    }
   },
   "source": [
    "### Eliminar un elemento\n",
    "Al igual que con listas, usando la instrucción `del` se puede eliminar  `d[k]`."
   ]
  },
  {
   "cell_type": "code",
   "execution_count": 10,
   "metadata": {
    "slideshow": {
     "slide_type": "fragment"
    }
   },
   "outputs": [
    {
     "name": "stdout",
     "output_type": "stream",
     "text": [
      "Diccionario antes de eliminar un elemento\n",
      "{'color': 'azul', 'tamano': 423}\n",
      "Diccionario despues de eliminar un elemento\n",
      "{'tamano': 423}\n"
     ]
    }
   ],
   "source": [
    "d = {'color':'azul','tamano':423}\n",
    "print \"Diccionario antes de eliminar un elemento\"\n",
    "print d\n",
    "del d[\"color\"]\n",
    "print \"Diccionario despues de eliminar un elemento\"\n",
    "print d"
   ]
  },
  {
   "cell_type": "code",
   "execution_count": 11,
   "metadata": {
    "slideshow": {
     "slide_type": "fragment"
    }
   },
   "outputs": [
    {
     "ename": "KeyError",
     "evalue": "'peso'",
     "output_type": "error",
     "traceback": [
      "\u001b[0;31m---------------------------------------------------------------------------\u001b[0m",
      "\u001b[0;31mKeyError\u001b[0m                                  Traceback (most recent call last)",
      "\u001b[0;32m<ipython-input-11-efe56cc28ea1>\u001b[0m in \u001b[0;36m<module>\u001b[0;34m()\u001b[0m\n\u001b[0;32m----> 1\u001b[0;31m \u001b[0;32mdel\u001b[0m \u001b[0md\u001b[0m\u001b[0;34m[\u001b[0m\u001b[0;34m\"peso\"\u001b[0m\u001b[0;34m]\u001b[0m\u001b[0;34m\u001b[0m\u001b[0m\n\u001b[0m",
      "\u001b[0;31mKeyError\u001b[0m: 'peso'"
     ]
    }
   ],
   "source": [
    "del d[\"peso\"]"
   ]
  },
  {
   "cell_type": "markdown",
   "metadata": {
    "slideshow": {
     "slide_type": "slide"
    }
   },
   "source": [
    "### Comprobar si una llave está en el diccionario\n",
    "La instrucción `in` verifica si una llave está en el diccionario."
   ]
  },
  {
   "cell_type": "code",
   "execution_count": 12,
   "metadata": {
    "slideshow": {
     "slide_type": "fragment"
    }
   },
   "outputs": [
    {
     "name": "stdout",
     "output_type": "stream",
     "text": [
      "True\n",
      "False\n"
     ]
    }
   ],
   "source": [
    "d = {'color':'azul','tamano':423}\n",
    "print 'color' in d\n",
    "print 'azul' in d"
   ]
  },
  {
   "cell_type": "markdown",
   "metadata": {
    "slideshow": {
     "slide_type": "slide"
    }
   },
   "source": [
    "### Obtener lista de llaves y lista de valores\n",
    "- El método `keys()` obtiene una lista con las llaves del diccionario.\n",
    "- El método `values()` obtiene una lista con los valores del diccionario.\n",
    "- El método `items()` obtiene una lista de tuplas con los pares  `(llave,valor)` del diccionario."
   ]
  },
  {
   "cell_type": "code",
   "execution_count": 13,
   "metadata": {
    "slideshow": {
     "slide_type": "fragment"
    }
   },
   "outputs": [
    {
     "name": "stdout",
     "output_type": "stream",
     "text": [
      "keys = ['color', 'tamano']\n",
      "values = ['azul', 423]\n",
      "items = [('color', 'azul'), ('tamano', 423)]\n"
     ]
    }
   ],
   "source": [
    "d = {'color':'azul','tamano':423}\n",
    "print \"keys =\",d.keys()\n",
    "print \"values =\",d.values()\n",
    "print \"items =\",d.items()"
   ]
  },
  {
   "cell_type": "code",
   "execution_count": 14,
   "metadata": {
    "slideshow": {
     "slide_type": "fragment"
    }
   },
   "outputs": [
    {
     "data": {
      "text/plain": [
       "['color', 'tamano']"
      ]
     },
     "execution_count": 14,
     "metadata": {},
     "output_type": "execute_result"
    }
   ],
   "source": [
    "list(d)"
   ]
  },
  {
   "cell_type": "markdown",
   "metadata": {
    "slideshow": {
     "slide_type": "slide"
    }
   },
   "source": [
    "### Iteración sobre diccionarios\n",
    "Se puede iterar sobre las llaves, sobre los valores y sobre llaves y valores:"
   ]
  },
  {
   "cell_type": "code",
   "execution_count": 16,
   "metadata": {
    "slideshow": {
     "slide_type": "fragment"
    }
   },
   "outputs": [
    {
     "name": "stdout",
     "output_type": "stream",
     "text": [
      "i = color\n",
      "i = tamano\n",
      "i = peso\n"
     ]
    }
   ],
   "source": [
    "d = {'color':'azul','peso':31 ,'tamano':423}\n",
    "for i in d:\n",
    "    print \"i =\",i"
   ]
  },
  {
   "cell_type": "code",
   "execution_count": 17,
   "metadata": {
    "slideshow": {
     "slide_type": "slide"
    }
   },
   "outputs": [
    {
     "name": "stdout",
     "output_type": "stream",
     "text": [
      "i = azul\n",
      "i = 423\n",
      "i = 31\n"
     ]
    }
   ],
   "source": [
    "d = {'color':'azul','tamano':423,'peso':31}\n",
    "for i in d.values():\n",
    "    print \"i =\",i"
   ]
  },
  {
   "cell_type": "code",
   "execution_count": 18,
   "metadata": {
    "slideshow": {
     "slide_type": "slide"
    }
   },
   "outputs": [
    {
     "name": "stdout",
     "output_type": "stream",
     "text": [
      "i= azul\n",
      "i= 423\n",
      "i= 31\n"
     ]
    }
   ],
   "source": [
    "d = {'color':'azul','tamano':423,'peso':31}\n",
    "for i in d:\n",
    "    print \"i=\",d[i]"
   ]
  },
  {
   "cell_type": "code",
   "execution_count": 19,
   "metadata": {
    "slideshow": {
     "slide_type": "slide"
    }
   },
   "outputs": [
    {
     "name": "stdout",
     "output_type": "stream",
     "text": [
      "i = ('color', 'azul')\n",
      "llave = color valor = azul\n",
      "i = ('tamano', 423)\n",
      "llave = tamano valor = 423\n",
      "i = ('peso', 31)\n",
      "llave = peso valor = 31\n"
     ]
    }
   ],
   "source": [
    "d = {'color':'azul','tamano':423,'peso':31}\n",
    "for i in d.items():\n",
    "    print \"i =\",i\n",
    "    llave,valor = i\n",
    "    print \"llave =\",llave,\"valor =\",valor"
   ]
  },
  {
   "cell_type": "code",
   "execution_count": 20,
   "metadata": {
    "slideshow": {
     "slide_type": "slide"
    }
   },
   "outputs": [
    {
     "name": "stdout",
     "output_type": "stream",
     "text": [
      "llave = color  valor = azul\n",
      "llave = tamano  valor = 423\n",
      "llave = peso  valor = 31\n"
     ]
    }
   ],
   "source": [
    "for llave,valor in d.items():\n",
    "    print \"llave =\",llave,\" valor =\",valor"
   ]
  },
  {
   "cell_type": "markdown",
   "metadata": {
    "slideshow": {
     "slide_type": "slide"
    }
   },
   "source": [
    "#### Algunas preguntas:\n",
    "- ¿Qué puedo usar como llave del diccionario?\n",
    "- ¿Qué puedo usar como valor del diccionario?\n",
    "- ¿El diccionario tiene algun orden?"
   ]
  },
  {
   "cell_type": "code",
   "execution_count": null,
   "metadata": {
    "slideshow": {
     "slide_type": "skip"
    }
   },
   "outputs": [],
   "source": []
  }
 ],
 "metadata": {
  "anaconda-cloud": {},
  "celltoolbar": "Slideshow",
  "kernelspec": {
   "display_name": "Python27",
   "language": "python",
   "name": "python27"
  },
  "language_info": {
   "codemirror_mode": {
    "name": "ipython",
    "version": 2
   },
   "file_extension": ".py",
   "mimetype": "text/x-python",
   "name": "python",
   "nbconvert_exporter": "python",
   "pygments_lexer": "ipython2",
   "version": "2.7.15rc1"
  }
 },
 "nbformat": 4,
 "nbformat_minor": 1
}
